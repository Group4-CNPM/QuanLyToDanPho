{
 "cells": [
  {
   "cell_type": "markdown",
   "metadata": {},
   "source": [
    "## Tập dữ liệu của **SoHoKhau**"
   ]
  },
  {
   "cell_type": "code",
   "execution_count": 1,
   "metadata": {},
   "outputs": [],
   "source": [
    "from faker import Faker"
   ]
  },
  {
   "cell_type": "code",
   "execution_count": 4,
   "metadata": {},
   "outputs": [],
   "source": [
    "fk = Faker()\n",
    "\n",
    "def rand_name():\n",
    "    return fk.first_name() + \" \" + fk.last_name()"
   ]
  },
  {
   "cell_type": "code",
   "execution_count": null,
   "metadata": {},
   "outputs": [],
   "source": [
    "rand_name()"
   ]
  },
  {
   "cell_type": "code",
   "execution_count": null,
   "metadata": {},
   "outputs": [],
   "source": [
    "address = \" phường La Khê, quận Hà Đông, TP. Hà Nội\""
   ]
  },
  {
   "cell_type": "code",
   "execution_count": 3,
   "metadata": {},
   "outputs": [],
   "source": [
    "from random import randint\n",
    "\n",
    "def rand_address():\n",
    "    return \"Số \" + str(randint(1, 2000)) + address"
   ]
  },
  {
   "cell_type": "code",
   "execution_count": null,
   "metadata": {},
   "outputs": [],
   "source": [
    "rand_address()"
   ]
  },
  {
   "cell_type": "code",
   "execution_count": 4,
   "metadata": {},
   "outputs": [],
   "source": [
    "# Sử dụng thư viện openpyxl để viết file .xlsx\n",
    "from openpyxl import Workbook"
   ]
  },
  {
   "cell_type": "code",
   "execution_count": null,
   "metadata": {},
   "outputs": [],
   "source": [
    "wb_shk = Workbook()\n",
    "wb_shk.save(\"D:\\\\FileCNPM\\\\SoHoKhau.xlsx\")"
   ]
  },
  {
   "cell_type": "code",
   "execution_count": null,
   "metadata": {},
   "outputs": [],
   "source": [
    "ws1 = wb_shk.active\n",
    "ws1.title = \"SoHoKhau\""
   ]
  },
  {
   "cell_type": "code",
   "execution_count": null,
   "metadata": {},
   "outputs": [],
   "source": [
    "ws1.append([\"ID\", \"Chu Ho\", \"Dia chi\"])"
   ]
  },
  {
   "cell_type": "code",
   "execution_count": null,
   "metadata": {},
   "outputs": [],
   "source": [
    "if __name__ == \"__main__\":\n",
    "    count = 0\n",
    "    while count < 400:\n",
    "        ID = count + 1\n",
    "        name = rand_name()\n",
    "        population = rand_address()\n",
    "        ws1.append([ID, name, population])\n",
    "        count += 1\n",
    "    wb_shk.save(\"D:\\\\Dataset\\\\SoHoKhau.xlsx\")"
   ]
  },
  {
   "cell_type": "code",
   "execution_count": null,
   "metadata": {},
   "outputs": [],
   "source": []
  },
  {
   "cell_type": "markdown",
   "metadata": {},
   "source": [
    "## Tập dữ liệu của NhanKhau"
   ]
  },
  {
   "cell_type": "code",
   "execution_count": 5,
   "metadata": {},
   "outputs": [],
   "source": [
    "wb_nhankhau = Workbook()\n",
    "wb_nhankhau.save(\"D:\\\\FileCNPM\\\\NhanKhau.xlsx\")\n",
    "ws2 = wb_nhankhau.active\n",
    "ws2.title = \"NhanKhau\"\n",
    "ws2.append([\"ID\", \"HoKhauID\", \"QuanHe\", \"HoTen\", \"NgaySinh\", \"GioiTinh\", \"NoiSinh\", \"NguyenQuan\", \"DanToc\", \"TonGiao\", \"NgheNghiep\",\"CMND\"])"
   ]
  },
  {
   "cell_type": "code",
   "execution_count": 6,
   "metadata": {},
   "outputs": [],
   "source": [
    "def rand_HoKhauID():\n",
    "    return randint(1, 400)"
   ]
  },
  {
   "cell_type": "code",
   "execution_count": 7,
   "metadata": {},
   "outputs": [],
   "source": [
    "relative_list = [\"Con trai\", \"Con gái\", \"Vợ\", \"Chồng\", \"Bố\", \"Mẹ\"]"
   ]
  },
  {
   "cell_type": "code",
   "execution_count": 8,
   "metadata": {},
   "outputs": [],
   "source": [
    "def rand_quanhe():\n",
    "    return relative_list[randint(0, 5)]"
   ]
  },
  {
   "cell_type": "code",
   "execution_count": 9,
   "metadata": {},
   "outputs": [
    {
     "data": {
      "text/plain": [
       "'Con trai'"
      ]
     },
     "execution_count": 9,
     "metadata": {},
     "output_type": "execute_result"
    }
   ],
   "source": [
    "rand_quanhe()"
   ]
  },
  {
   "cell_type": "code",
   "execution_count": 10,
   "metadata": {},
   "outputs": [],
   "source": [
    "def rand_name():\n",
    "    return fk.first_name() + \" \" + fk.last_name()"
   ]
  },
  {
   "cell_type": "code",
   "execution_count": 8,
   "metadata": {},
   "outputs": [],
   "source": [
    "import datetime\n",
    "\n",
    "def rand_birthday(start = datetime.date(1975, 1, 1), end = datetime.date(2015, 12, 31)):\n",
    "    return str(start + datetime.timedelta(seconds = randint(0, int((end - start).total_seconds()))))"
   ]
  },
  {
   "cell_type": "code",
   "execution_count": 12,
   "metadata": {},
   "outputs": [
    {
     "data": {
      "text/plain": [
       "'2010-06-22'"
      ]
     },
     "execution_count": 12,
     "metadata": {},
     "output_type": "execute_result"
    }
   ],
   "source": [
    "rand_birthday()"
   ]
  },
  {
   "cell_type": "code",
   "execution_count": 13,
   "metadata": {},
   "outputs": [],
   "source": [
    "def rand_gioitinh():\n",
    "    return randint(0, 1)"
   ]
  },
  {
   "cell_type": "code",
   "execution_count": 14,
   "metadata": {},
   "outputs": [
    {
     "data": {
      "text/plain": [
       "1"
      ]
     },
     "execution_count": 14,
     "metadata": {},
     "output_type": "execute_result"
    }
   ],
   "source": [
    "rand_gioitinh()"
   ]
  },
  {
   "cell_type": "code",
   "execution_count": 5,
   "metadata": {},
   "outputs": [],
   "source": [
    "def rand_noisinh():\n",
    "    return fk.country()"
   ]
  },
  {
   "cell_type": "code",
   "execution_count": 6,
   "metadata": {},
   "outputs": [
    {
     "data": {
      "text/plain": [
       "'Cuba'"
      ]
     },
     "execution_count": 6,
     "metadata": {},
     "output_type": "execute_result"
    }
   ],
   "source": [
    "rand_noisinh()"
   ]
  },
  {
   "cell_type": "code",
   "execution_count": 19,
   "metadata": {},
   "outputs": [],
   "source": [
    "def rand_nguyenquan():\n",
    "    return fk.city()"
   ]
  },
  {
   "cell_type": "code",
   "execution_count": null,
   "metadata": {},
   "outputs": [],
   "source": []
  },
  {
   "cell_type": "code",
   "execution_count": 20,
   "metadata": {},
   "outputs": [
    {
     "data": {
      "text/plain": [
       "'Fowlertown'"
      ]
     },
     "execution_count": 20,
     "metadata": {},
     "output_type": "execute_result"
    }
   ],
   "source": [
    "rand_nguyenquan()"
   ]
  },
  {
   "cell_type": "code",
   "execution_count": 13,
   "metadata": {},
   "outputs": [],
   "source": [
    "# Sử dụng thư viện numpy để random theo xác xuất\n",
    "import numpy as np\n",
    "dantoc = [\"Kinh\", \"Tày\", \"Thái\", \"Ê-đê\"]\n",
    "def rand_dantoc():\n",
    "    value = np.random.choice(np.arange(1,5), p = [0.9, 0.03, 0.04, 0.03]) - 1\n",
    "    return dantoc[value]"
   ]
  },
  {
   "cell_type": "code",
   "execution_count": 22,
   "metadata": {},
   "outputs": [
    {
     "data": {
      "text/plain": [
       "'Kinh'"
      ]
     },
     "execution_count": 22,
     "metadata": {},
     "output_type": "execute_result"
    }
   ],
   "source": [
    "rand_dantoc()"
   ]
  },
  {
   "cell_type": "code",
   "execution_count": 23,
   "metadata": {},
   "outputs": [],
   "source": [
    "def rand_tongiao():\n",
    "    return np.random.choice(np.arange(1,3), p = [0.95, 0.05]) - 1"
   ]
  },
  {
   "cell_type": "code",
   "execution_count": 24,
   "metadata": {},
   "outputs": [
    {
     "data": {
      "text/plain": [
       "0"
      ]
     },
     "execution_count": 24,
     "metadata": {},
     "output_type": "execute_result"
    }
   ],
   "source": [
    "rand_tongiao()"
   ]
  },
  {
   "cell_type": "code",
   "execution_count": 25,
   "metadata": {},
   "outputs": [],
   "source": [
    "job = [\"Làm ruộng\", \"Giáo viên\", \"Kỹ sư\", \"Bác sĩ\", \"Nhân viên kinh doanh\"]\n",
    "def rand_nghenghiep():\n",
    "    value = np.random.choice(np.arange(1,6), p = [0.8, 0.1, 0.03, 0.03, 0.04]) - 1\n",
    "    return job[value]\n",
    "    "
   ]
  },
  {
   "cell_type": "code",
   "execution_count": 26,
   "metadata": {},
   "outputs": [
    {
     "data": {
      "text/plain": [
       "'Làm ruộng'"
      ]
     },
     "execution_count": 26,
     "metadata": {},
     "output_type": "execute_result"
    }
   ],
   "source": [
    "rand_nghenghiep()"
   ]
  },
  {
   "cell_type": "code",
   "execution_count": 27,
   "metadata": {},
   "outputs": [],
   "source": [
    "def rand_cmnd():\n",
    "    return 123456789 + randint(1267, 6433)"
   ]
  },
  {
   "cell_type": "code",
   "execution_count": 28,
   "metadata": {},
   "outputs": [
    {
     "data": {
      "text/plain": [
       "123461166"
      ]
     },
     "execution_count": 28,
     "metadata": {},
     "output_type": "execute_result"
    }
   ],
   "source": [
    "rand_cmnd()"
   ]
  },
  {
   "cell_type": "code",
   "execution_count": 29,
   "metadata": {},
   "outputs": [],
   "source": [
    "count = 0\n",
    "while count < 1300:\n",
    "    ID = count + 1\n",
    "    hokhauID = rand_HoKhauID()\n",
    "    quanhe = rand_quanhe()\n",
    "    hoten = rand_name()\n",
    "    ngaysinh = rand_birthday()\n",
    "    gioitinh = rand_gioitinh()\n",
    "    noisinh = rand_noisinh()\n",
    "    nguyenquan = rand_nguyenquan()\n",
    "    dt = rand_dantoc()\n",
    "    tongiao = rand_tongiao()\n",
    "    nghenghiep = rand_nghenghiep()\n",
    "    cmnd = rand_cmnd()\n",
    "    ws2.append([ID, hokhauID, quanhe, hoten, ngaysinh, gioitinh, noisinh, nguyenquan, dt, tongiao, nghenghiep, cmnd])\n",
    "    count += 1\n",
    "\n",
    "wb_nhankhau.save(\"D:\\\\Dataset\\\\NhanKhau.xlsx\")"
   ]
  },
  {
   "cell_type": "code",
   "execution_count": null,
   "metadata": {},
   "outputs": [],
   "source": []
  },
  {
   "cell_type": "code",
   "execution_count": null,
   "metadata": {},
   "outputs": [],
   "source": []
  },
  {
   "cell_type": "markdown",
   "metadata": {},
   "source": [
    "## Tập dữ liệu của TrangThai"
   ]
  },
  {
   "cell_type": "code",
   "execution_count": 30,
   "metadata": {},
   "outputs": [],
   "source": [
    "wb_trangthai = Workbook()\n",
    "ws3 = wb_trangthai.active\n",
    "ws3.title = \"TrangThai\"\n",
    "ws3.append([\"IDNhanKhau\", \"TTKB\", \"TTSK\", \"ThoiGianCachLy\", \"MucDoCachLy\", \"TestCovid19\", \"HinhThuc\", \"ThoiDiem\", \"KetQua\"])"
   ]
  },
  {
   "cell_type": "code",
   "execution_count": null,
   "metadata": {},
   "outputs": [],
   "source": []
  },
  {
   "cell_type": "code",
   "execution_count": 6,
   "metadata": {},
   "outputs": [],
   "source": [
    "TTSK = [\"ho, sốt\", \"ho, sốt\", 'bình thường', 'bình thường', 'bình thường']\n",
    "\n",
    "def rand_TTSK():\n",
    "    return TTSK[randint(0,4)]"
   ]
  },
  {
   "cell_type": "code",
   "execution_count": 9,
   "metadata": {},
   "outputs": [],
   "source": [
    "def rand_time(start = datetime.datetime(2019, 1, 1, 0, 0, 0), end = datetime.datetime.today()):\n",
    "    return start + datetime.timedelta(seconds = randint(0, int((end - start).total_seconds())))"
   ]
  },
  {
   "cell_type": "code",
   "execution_count": 10,
   "metadata": {},
   "outputs": [
    {
     "data": {
      "text/plain": [
       "datetime.datetime(2019, 1, 10, 10, 32, 1)"
      ]
     },
     "execution_count": 10,
     "metadata": {},
     "output_type": "execute_result"
    }
   ],
   "source": [
    "rand_time()"
   ]
  },
  {
   "cell_type": "code",
   "execution_count": 14,
   "metadata": {},
   "outputs": [],
   "source": [
    "levels = ['F0', 'F1', 'F2', 'F3', 'F4', 'F5']\n",
    "def rand_level():\n",
    "    return levels[np.random.choice(np.arange(1,7), p = [0.15, 0.3, 0.15, 0.15, 0.15, 0.1]) - 1]"
   ]
  },
  {
   "cell_type": "code",
   "execution_count": 15,
   "metadata": {},
   "outputs": [
    {
     "data": {
      "text/plain": [
       "'F4'"
      ]
     },
     "execution_count": 15,
     "metadata": {},
     "output_type": "execute_result"
    }
   ],
   "source": [
    "rand_level()"
   ]
  },
  {
   "cell_type": "code",
   "execution_count": 16,
   "metadata": {},
   "outputs": [],
   "source": [
    "test_covid = []\n",
    "test_covid += '1'*9"
   ]
  },
  {
   "cell_type": "code",
   "execution_count": 17,
   "metadata": {},
   "outputs": [
    {
     "data": {
      "text/plain": [
       "['1', '1', '1', '1', '1', '1', '1', '1', '1']"
      ]
     },
     "execution_count": 17,
     "metadata": {},
     "output_type": "execute_result"
    }
   ],
   "source": [
    "test_covid"
   ]
  },
  {
   "cell_type": "code",
   "execution_count": 18,
   "metadata": {},
   "outputs": [],
   "source": [
    "test_covid.append('0')"
   ]
  },
  {
   "cell_type": "code",
   "execution_count": 19,
   "metadata": {},
   "outputs": [
    {
     "data": {
      "text/plain": [
       "['1', '1', '1', '1', '1', '1', '1', '1', '1', '0']"
      ]
     },
     "execution_count": 19,
     "metadata": {},
     "output_type": "execute_result"
    }
   ],
   "source": [
    "test_covid"
   ]
  },
  {
   "cell_type": "code",
   "execution_count": 20,
   "metadata": {},
   "outputs": [],
   "source": [
    "def rand_testcovid():\n",
    "    return test_covid[randint(0,9)]"
   ]
  },
  {
   "cell_type": "code",
   "execution_count": 21,
   "metadata": {},
   "outputs": [
    {
     "data": {
      "text/plain": [
       "'1'"
      ]
     },
     "execution_count": 21,
     "metadata": {},
     "output_type": "execute_result"
    }
   ],
   "source": [
    "rand_testcovid()"
   ]
  },
  {
   "cell_type": "code",
   "execution_count": 22,
   "metadata": {},
   "outputs": [],
   "source": [
    "formula = [\"Xét nghiệm virus\", \"Xét nghiệm virus\", \"Xét nghiệm virus\", \"Xét nghiệm virus\" , \"Xét nghiệm virus\" , \n",
    "          \"Xét nghiệm virus\", \"Xét nghiệm virus\", \"Xét nghiệm virus\", \"Xét nghiệm kháng thể\", \"Xét nghiệm kháng thể\", \n",
    "          \"Xét nghiệm kháng thể\"]\n",
    "\n",
    "def rand_hinhthuc():\n",
    "    return formula[randint(0,9)]"
   ]
  },
  {
   "cell_type": "code",
   "execution_count": 23,
   "metadata": {},
   "outputs": [
    {
     "data": {
      "text/plain": [
       "'Xét nghiệm virus'"
      ]
     },
     "execution_count": 23,
     "metadata": {},
     "output_type": "execute_result"
    }
   ],
   "source": [
    "rand_hinhthuc()"
   ]
  },
  {
   "cell_type": "code",
   "execution_count": 24,
   "metadata": {},
   "outputs": [],
   "source": [
    "results = ['Dương tính', 'Âm tính', 'Âm tính', 'Âm tính', 'Âm tính']\n",
    "def rand_kq():\n",
    "    return results[randint(0,4)]"
   ]
  },
  {
   "cell_type": "code",
   "execution_count": 31,
   "metadata": {},
   "outputs": [],
   "source": [
    "count = 1\n",
    "TTKB = \"Chưa có thông tin khai báo\"\n",
    "\n",
    "while count < 1701:\n",
    "    \n",
    "    times = randint(1,3)\n",
    "    x = 0\n",
    "    IDNhanKhau = count\n",
    "    SK = rand_TTSK() \n",
    "    MDCL = rand_level()\n",
    "    t = rand_time()\n",
    "    TGCL = str(t)\n",
    "    \n",
    "    while x < times:\n",
    "        testcovid = \"Lần \" + str(x+1)\n",
    "        ht = rand_hinhthuc()\n",
    "        TD = str(t + datetime.timedelta(seconds = 600000))\n",
    "        kq = rand_kq()\n",
    "        ws3.append([IDNhanKhau, TTKB, SK, TGCL, MDCL, testcovid, ht, TD, kq])\n",
    "        x += 1\n",
    "        \n",
    "    count += 1\n",
    "\n",
    "wb_trangthai.save(\"D:\\\\Dataset\\\\TrangThai.xlsx\")"
   ]
  },
  {
   "cell_type": "code",
   "execution_count": 73,
   "metadata": {},
   "outputs": [
    {
     "data": {
      "text/plain": [
       "'bình thường'"
      ]
     },
     "execution_count": 73,
     "metadata": {},
     "output_type": "execute_result"
    }
   ],
   "source": [
    "rand_TTSK()"
   ]
  },
  {
   "cell_type": "code",
   "execution_count": 72,
   "metadata": {},
   "outputs": [
    {
     "data": {
      "text/plain": [
       "['ho, sốt', 'ho, sốt', 'bình thường', 'bình thường', 'bình thường']"
      ]
     },
     "execution_count": 72,
     "metadata": {},
     "output_type": "execute_result"
    }
   ],
   "source": [
    "TTSK"
   ]
  },
  {
   "cell_type": "code",
   "execution_count": null,
   "metadata": {},
   "outputs": [],
   "source": []
  },
  {
   "cell_type": "code",
   "execution_count": null,
   "metadata": {},
   "outputs": [],
   "source": []
  },
  {
   "cell_type": "code",
   "execution_count": null,
   "metadata": {},
   "outputs": [],
   "source": []
  },
  {
   "cell_type": "code",
   "execution_count": null,
   "metadata": {},
   "outputs": [],
   "source": []
  }
 ],
 "metadata": {
  "kernelspec": {
   "display_name": "Python 3",
   "language": "python",
   "name": "python3"
  },
  "language_info": {
   "codemirror_mode": {
    "name": "ipython",
    "version": 3
   },
   "file_extension": ".py",
   "mimetype": "text/x-python",
   "name": "python",
   "nbconvert_exporter": "python",
   "pygments_lexer": "ipython3",
   "version": "3.7.4"
  }
 },
 "nbformat": 4,
 "nbformat_minor": 2
}
